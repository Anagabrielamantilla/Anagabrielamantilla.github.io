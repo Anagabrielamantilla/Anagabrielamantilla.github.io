{
  "nbformat": 4,
  "nbformat_minor": 0,
  "metadata": {
    "colab": {
      "provenance": []
    },
    "kernelspec": {
      "name": "python3",
      "display_name": "Python 3"
    },
    "language_info": {
      "name": "python"
    }
  },
  "cells": [
    {
      "cell_type": "code",
      "execution_count": null,
      "metadata": {
        "id": "sW4Ruwr4_HvB"
      },
      "outputs": [],
      "source": [
        "# Se calcula el promedio de la temperatura\n",
        "# promedio_temperatura = tmax+tmin/2\n",
        "\n",
        "\n",
        "def prom_temp(tmax, tmin):\n",
        "  '''\n",
        "  prom_temp: Calcular la Temperatura Media Anual \n",
        "  Variables de entrada\n",
        "  tmax:  Temperatura máxima anual \n",
        "  tmin: Temperatura mínima anual'''\n",
        "\n",
        "  import pandas as pd\n",
        "  promedio = (tmax+tmin)/2\n",
        "  promedio = pd.DataFrame(promedio)\n",
        "  promedio = promedio.reset_index()\n",
        "  return promedio "
      ]
    },
    {
      "cell_type": "code",
      "source": [
        "# Para graficar el ráster\n",
        "\n",
        "'''\n",
        "  DEM: Graficar el Modelo Digital de Elevación (DEM)\n",
        "  Variables de entrada\n",
        "  raster: Modelo Digital de Elevación en formato ráster'''\n",
        "\n",
        "def DEM(raster):\n",
        "  import numpy as np\n",
        "  Nonvalue = raster.GetRasterBand(1).GetNoDataValue()\n",
        "  Array = raster.GetRasterBand(1).ReadAsArray().flatten().astype(np.float64)\n",
        "  NanValues = np.where(Array == Nonvalue)[0]\n",
        "  cP      = np.arange(0, raster.RasterXSize*raster.RasterYSize)\n",
        "  cPP       = np.delete(cP, NanValues, axis=0)\n",
        "  XX = np.delete(Array, NanValues, axis=0)\n",
        "  temp = Array.copy()\n",
        "  temp[temp==Nonvalue] = None\n",
        "  import matplotlib.pyplot as plt\n",
        "  fig = plt.figure(figsize=(10,10))\n",
        "  plt.imshow(temp.reshape((raster.RasterYSize,raster.RasterXSize)), aspect='auto', cmap='jet')\n",
        "  plt.colorbar()"
      ],
      "metadata": {
        "id": "m25Ackge_Wlq"
      },
      "execution_count": null,
      "outputs": []
    },
    {
      "cell_type": "markdown",
      "source": [
        "# **Cálculo regresión**"
      ],
      "metadata": {
        "id": "8F8grqc6n4Xu"
      }
    },
    {
      "cell_type": "code",
      "source": [
        "def regresion(altitud, temperatura):\n",
        "\n",
        "  '''\n",
        "  regresion: Calcular la regresión lineal entre los valores \n",
        "  de altitud y temperatura media anual\n",
        "  Variables de entrada\n",
        "  altitud:  Altura de las estaciones (msnm)\n",
        "  temperatura: Temperatura media anual'''\n",
        "\n",
        "  from sklearn import linear_model\n",
        "  regresion = linear_model.LinearRegression()\n",
        "  altitud = altitud.values.reshape(-1,1)\n",
        "  modelo = regresion.fit(altitud, temperatura)\n",
        "  # y = mx+b\n",
        "  m = regresion.coef_\n",
        "  b = regresion.intercept_\n",
        "  label = r' Y = %0.4f*X %+ 0.4f '%(m,b)\n",
        "  prediccion = modelo.predict(altitud)\n",
        "\n",
        "  \n",
        "  import matplotlib.pyplot as plt\n",
        "  figura = plt.scatter(altitud, temperatura)\n",
        "  plt.scatter(altitud, modelo.predict(altitud), color='red')\n",
        "  plt.plot(altitud, modelo.predict(altitud), color='black', label=label)\n",
        "  plt.xlabel ('Altitud (msnm)', fontsize= 15)\n",
        "  plt.ylabel('Temperatura (°C)', fontsize= 15)\n",
        "  plt.grid()\n",
        "  plt.legend()\n",
        "\n",
        "  return figura, print('La pendiente es de '+ str(m)+ 'y la intersección de '+ str(b))"
      ],
      "metadata": {
        "id": "2aJjl3fi_Sc0"
      },
      "execution_count": null,
      "outputs": []
    },
    {
      "cell_type": "markdown",
      "source": [
        "# **Cálculo coeficiente 'm' regresión**"
      ],
      "metadata": {
        "id": "iJhBbr9gns4U"
      }
    },
    {
      "cell_type": "code",
      "source": [
        "def m(altitud, temperatura):\n",
        "\n",
        "  '''\n",
        "  m: Calcular parámetro m (pendiente) de la regresión lineal\n",
        "  Variables de entrada\n",
        "  altitud:  Altura de las estaciones (msnm)\n",
        "  temperatura: Temperatura media anual'''\n",
        "\n",
        "\n",
        "  from sklearn import linear_model\n",
        "  regresion = linear_model.LinearRegression()\n",
        "  altitud = altitud.values.reshape(-1,1)\n",
        "  modelo = regresion.fit(altitud, temperatura)\n",
        "  # y = mx+b\n",
        "  m = regresion.coef_\n",
        "  return m"
      ],
      "metadata": {
        "id": "JuoKReRkHAA8"
      },
      "execution_count": null,
      "outputs": []
    },
    {
      "cell_type": "markdown",
      "source": [
        "# **Cálculo coeficiente 'b' regresión**"
      ],
      "metadata": {
        "id": "Fbj2k8VwnyXW"
      }
    },
    {
      "cell_type": "code",
      "source": [
        "def b(altitud, temperatura):\n",
        "  '''\n",
        "  b: Calcular parámetro b (intersección con el eje y) de la regresión lineal\n",
        "  Variables de entrada\n",
        "  altitud:  Altura de las estaciones (msnm)\n",
        "  temperatura: Temperatura media anual'''\n",
        "\n",
        "  from sklearn import linear_model\n",
        "  regresion = linear_model.LinearRegression()\n",
        "  altitud = altitud.values.reshape(-1,1)\n",
        "  modelo = regresion.fit(altitud, temperatura)\n",
        "  # y = mx+b\n",
        "  b = regresion.intercept_\n",
        "  return b"
      ],
      "metadata": {
        "id": "A0w5y1NuHKRv"
      },
      "execution_count": null,
      "outputs": []
    },
    {
      "cell_type": "code",
      "source": [
        "def Isotermas(m, XX, b): # calcula los valores de las isotermas \n",
        "\n",
        "  '''\n",
        "  Isotermas: Calcular los valores de isotermas\n",
        "  Variables de entrada\n",
        "  m: pendiente de la regresión lineal\n",
        "  XX : valores del DEM (Recuerde eliminar los valores nulos)\n",
        "  b : intersección de la regresión lineal'''\n",
        "\n",
        "  Isotermas = m*XX + b\n",
        "  return Isotermas"
      ],
      "metadata": {
        "id": "Cv4939pi_f8r"
      },
      "execution_count": null,
      "outputs": []
    },
    {
      "cell_type": "code",
      "source": [
        "from osgeo import gdal\n",
        "import numpy as np\n",
        "import matplotlib.pyplot as plt"
      ],
      "metadata": {
        "id": "Q8W9dStCkAbx"
      },
      "execution_count": 4,
      "outputs": []
    },
    {
      "cell_type": "code",
      "source": [
        "def MapaIsotermas(raster, Isotermas, fn, nombre):\n",
        "\n",
        "  '''\n",
        "  Isotermas: Calcular el mapa de isotermas y exportarlo para ser visualizado en un software GIS\n",
        "  Variables de entrada\n",
        "  raster: DEM\n",
        "  Isotermas : valores de las isotermas\n",
        "  fn : Ruta del mapa de isotermas\n",
        "  nombre: Nombre del mapa de isotermas\n",
        "  Hecho por: Paul Goyes (goyes.yesid@gmail.com),\n",
        "             Ana Mantilla (anagmd2019@gmail.com)\n",
        "             Manuel Daza (manedaza12@gmail.com)'''\n",
        "\n",
        "  from osgeo import gdal\n",
        "  import numpy as np\n",
        "  import matplotlib.pyplot as plt\n",
        "\n",
        "  Nonvalue = raster.GetRasterBand(1).GetNoDataValue()\n",
        "  Array = raster.GetRasterBand(1).ReadAsArray().flatten().astype(np.float64)\n",
        "  NanValues = np.where(Array == Nonvalue)[0]\n",
        "  cP      = np.arange(0, raster.RasterXSize*raster.RasterYSize)\n",
        "  cPP       = np.delete(cP, NanValues, axis=0)\n",
        "  XX = np.delete(Array, NanValues, axis=0)\n",
        "  \n",
        "  driver = raster.GetDriver\n",
        "  col = raster.RasterXSize\n",
        "  rows  = raster.RasterYSize\n",
        "  nelem = col*rows\n",
        "\n",
        "  Rasterdataarray = np.zeros((rows,col)).flatten()\n",
        "  for i in range(cPP.shape[0]):\n",
        "    Rasterdataarray[cPP[i]]=Isotermas[i]\n",
        "  for i in range(NanValues.shape[0]):\n",
        "    Rasterdataarray[NanValues[i]]=Nonvalue\n",
        "\n",
        "  driver = raster.GetDriver()\n",
        "  Rasterout = driver.Create(fn + nombre + '.tif', col, rows, 1, gdal.GDT_Float32)\n",
        "  Rasterout.SetGeoTransform(raster.GetGeoTransform())\n",
        "  Rasterout.SetProjection(raster.GetProjection())\n",
        "  Rasterout.GetRasterBand(1).WriteArray(Rasterdataarray.reshape(rows,col))\n",
        "  Rasterout.GetRasterBand(1).SetNoDataValue(Nonvalue)\n",
        "  Rasterout = None\n",
        "  del Rasterout\n",
        "  temp = Rasterdataarray.copy()\n",
        "  temp[temp==Nonvalue] = None\n",
        "\n",
        "  fig = plt.figure(figsize=(20,9))\n",
        "  plt.subplot(131)\n",
        "  plt.imshow(temp.reshape((raster.RasterYSize,raster.RasterXSize)), aspect='auto',cmap='jet')\n",
        "  plt.colorbar()\n",
        "  plt.title(nombre, fontsize=15)"
      ],
      "metadata": {
        "id": "sJDGKKtC_kX7"
      },
      "execution_count": 5,
      "outputs": []
    },
    {
      "cell_type": "code",
      "source": [],
      "metadata": {
        "id": "Thnz4YptkLAB"
      },
      "execution_count": null,
      "outputs": []
    },
    {
      "cell_type": "code",
      "source": [],
      "metadata": {
        "id": "Dbq-6sd6Ddsf"
      },
      "execution_count": null,
      "outputs": []
    }
  ]
}